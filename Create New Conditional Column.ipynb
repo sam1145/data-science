{
 "cells": [
  {
   "cell_type": "code",
   "execution_count": 1,
   "id": "9463996d",
   "metadata": {},
   "outputs": [
    {
     "name": "stdout",
     "output_type": "stream",
     "text": [
      "        ship_mode  sales  profit  surcharge  total_cost\n",
      "0        Same Day    100      10       0.20       108.0\n",
      "1     First Class    200      20       0.10       198.0\n",
      "2  Standard Class    300      30       0.05       283.5\n",
      "3           Other    400      40       0.00       360.0\n"
     ]
    }
   ],
   "source": [
    "import pandas as pd\n",
    "import numpy as np\n",
    "\n",
    "df = pd.DataFrame({'ship_mode': ['Same Day','First Class','Standard Class','Other'],\n",
    "                   'sales': [100,200,300,400],\n",
    "                   'profit': [10,20,30,40]})\n",
    "df['surcharge'] = np.where(df['ship_mode'] == 'Same Day',0.2,\n",
    "                           np.where(df['ship_mode'] == 'First Class',0.1,\n",
    "                                    np.where(df['ship_mode'] == 'Standard Class',0.05,0)))\n",
    "df['total_cost'] = (df['sales'] - df['profit']) * (1 + df['surcharge'])\n",
    "print(df)"
   ]
  },
  {
   "cell_type": "code",
   "execution_count": null,
   "id": "e4efacc1",
   "metadata": {},
   "outputs": [],
   "source": []
  }
 ],
 "metadata": {
  "kernelspec": {
   "display_name": "Python 3 (ipykernel)",
   "language": "python",
   "name": "python3"
  },
  "language_info": {
   "codemirror_mode": {
    "name": "ipython",
    "version": 3
   },
   "file_extension": ".py",
   "mimetype": "text/x-python",
   "name": "python",
   "nbconvert_exporter": "python",
   "pygments_lexer": "ipython3",
   "version": "3.9.12"
  }
 },
 "nbformat": 4,
 "nbformat_minor": 5
}
